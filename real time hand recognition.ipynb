{
 "cells": [
  {
   "cell_type": "markdown",
   "id": "fd387503",
   "metadata": {},
   "source": [
    "## Desafio Bônus - Reconhecimento de ações em tempo real!"
   ]
  },
  {
   "cell_type": "markdown",
   "id": "b9a9f7e7",
   "metadata": {},
   "source": [
    "#### Importando pacotes necessários"
   ]
  },
  {
   "cell_type": "code",
   "execution_count": 1,
   "id": "6bf4751d",
   "metadata": {},
   "outputs": [],
   "source": [
    "# Importando os pacotes necessários para reconhecimento dos sinais utilizando Python OpenCV\n",
    "import cv2\n",
    "import numpy as np\n",
    "import mediapipe as mp\n",
    "import tensorflow as tf\n",
    "from tensorflow.keras.models import load_model"
   ]
  },
  {
   "cell_type": "markdown",
   "id": "65473b31",
   "metadata": {},
   "source": [
    "### Iniciando Modelos\n",
    "\n",
    "#### Iniciando o MediaPipe Hands"
   ]
  },
  {
   "cell_type": "code",
   "execution_count": 2,
   "id": "ac6bdec1",
   "metadata": {},
   "outputs": [],
   "source": [
    "# iniciando o MediaPipe\n",
    "mpHands = mp.solutions.hands\n",
    "hands = mpHands.Hands(max_num_hands=2, min_detection_confidence=0.7)\n",
    "mpDraw = mp.solutions.drawing_utils"
   ]
  },
  {
   "cell_type": "markdown",
   "id": "d61c0f46",
   "metadata": {},
   "source": [
    "#### Carregando o modelo de classificação dos sinais desenvolvido anteriormente\n",
    "\n",
    "* Criei o arquivo com o nome das classes manualmente!"
   ]
  },
  {
   "cell_type": "code",
   "execution_count": 3,
   "id": "7c17ff72",
   "metadata": {},
   "outputs": [
    {
     "name": "stdout",
     "output_type": "stream",
     "text": [
      "['a', 'b', 'c', 'd', 'e', 'f', 'g', 'h', 'i', 'j', 'k', 'l', 'm', 'n', 'o', 'p', 'q', 'r', 's', 't', 'u', 'v', 'w', 'x', 'y', 'z']\n"
     ]
    }
   ],
   "source": [
    "# Carregando o modelo de classificação dos sinais desenvolvido anteriormente\n",
    "model = load_model('cnn_sibi')\n",
    "# Carregando as classes - criei este arquivo manualmente!\n",
    "f = open('gesture.names', 'r')\n",
    "classNames = f.read().split('\\n')\n",
    "f.close()\n",
    "print(classNames)"
   ]
  },
  {
   "cell_type": "markdown",
   "id": "f529ed07",
   "metadata": {},
   "source": [
    "### Lendos os frames da WebCam e classificando os sinais"
   ]
  },
  {
   "cell_type": "code",
   "execution_count": 7,
   "id": "2f621e12",
   "metadata": {},
   "outputs": [],
   "source": [
    "# Iniciando a WebCam para reconhecer os sinais\n",
    "cap = cv2.VideoCapture(0)\n",
    "while True:\n",
    "    # Ler cada frame da WebCam\n",
    "    _, frame = cap.read()\n",
    "    x , y, c = frame.shape\n",
    "    # Girar o frame verticalmente\n",
    "    frame = cv2.flip(frame, 1)\n",
    "    framergb = cv2.cvtColor(frame, cv2.COLOR_BGR2RGB)\n",
    "    # Obter a classificação do frame a partir do \"esqueleto\" da mão - os Hands Landmarks.\n",
    "    result = hands.process(framergb)\n",
    "    \n",
    "    className = ''\n",
    "    \n",
    "    # pós processamento dos resultados\n",
    "    if result.multi_hand_landmarks:\n",
    "        landmarks = []\n",
    "        for handslms in result.multi_hand_landmarks:\n",
    "            for lm in handslms.landmark:\n",
    "                lmx = int(lm.x * x)\n",
    "                lmy = int(lm.y * y)\n",
    "                lmz = int(lm.z)\n",
    "                landmarks.append(lmx)\n",
    "                landmarks.append(lmy)\n",
    "                landmarks.append(lmz)\n",
    "            # Desenhando os Landmarks nos frames\n",
    "            mpDraw.draw_landmarks(frame, handslms, mpHands.HAND_CONNECTIONS)\n",
    "            # Classificando o sinal\n",
    "            prediction = model.predict([landmarks])\n",
    "            predictions = np.array(prediction)\n",
    "            print(predictions)\n",
    "            classID = np.argmax(predictions)\n",
    "            print(classID)\n",
    "            className = classNames[classID].capitalize()\n",
    "            # Exibindo a classificação no frame\n",
    "            cv2.putText(frame, className, (10, 50), cv2.FONT_HERSHEY_SIMPLEX, 1, (0,0,255), 2, cv2.LINE_AA)\n",
    "\n",
    "    # Exibindo o output final\n",
    "    cv2.imshow(\"Output\", frame)\n",
    "    if cv2.waitKey(1) == ord('q'):\n",
    "        break\n",
    "# Apertar a tecla \"Q\" para finalizar a janela da WebCam.\n",
    "cap.release()\n",
    "cv2.destroyAllWindows()"
   ]
  }
 ],
 "metadata": {
  "kernelspec": {
   "display_name": "Python 3 (ipykernel)",
   "language": "python",
   "name": "python3"
  },
  "language_info": {
   "codemirror_mode": {
    "name": "ipython",
    "version": 3
   },
   "file_extension": ".py",
   "mimetype": "text/x-python",
   "name": "python",
   "nbconvert_exporter": "python",
   "pygments_lexer": "ipython3",
   "version": "3.9.13"
  }
 },
 "nbformat": 4,
 "nbformat_minor": 5
}
